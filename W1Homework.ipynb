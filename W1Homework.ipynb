{
  "nbformat": 4,
  "nbformat_minor": 0,
  "metadata": {
    "colab": {
      "name": "W1Homework.ipynb",
      "provenance": [],
      "authorship_tag": "ABX9TyOZ62kNA8YvUjF9bsn7qtBl",
      "include_colab_link": true
    },
    "kernelspec": {
      "name": "python3",
      "display_name": "Python 3"
    },
    "language_info": {
      "name": "python"
    }
  },
  "cells": [
    {
      "cell_type": "markdown",
      "metadata": {
        "id": "view-in-github",
        "colab_type": "text"
      },
      "source": [
        "<a href=\"https://colab.research.google.com/github/rollways/JDHW/blob/main/W1Homework.ipynb\" target=\"_parent\"><img src=\"https://colab.research.google.com/assets/colab-badge.svg\" alt=\"Open In Colab\"/></a>"
      ]
    },
    {
      "cell_type": "markdown",
      "metadata": {
        "id": "fFoNtZOsnGTf"
      },
      "source": [
        "### Z-SCORE"
      ]
    },
    {
      "cell_type": "code",
      "metadata": {
        "id": "NixIlvSqR3db"
      },
      "source": [
        "import numpy as np\n",
        "from scipy import stats"
      ],
      "execution_count": null,
      "outputs": []
    },
    {
      "cell_type": "code",
      "metadata": {
        "colab": {
          "base_uri": "https://localhost:8080/"
        },
        "id": "GsEY989wmg0C",
        "outputId": "418d6d3d-7227-4eb7-ffb8-609edd601404"
      },
      "source": [
        "data = np.array([200,300,400,600,1000])\n",
        "data0 = [200,300,400,600,1000]\n",
        "data"
      ],
      "execution_count": null,
      "outputs": [
        {
          "output_type": "execute_result",
          "data": {
            "text/plain": [
              "array([ 200,  300,  400,  600, 1000])"
            ]
          },
          "metadata": {},
          "execution_count": 8
        }
      ]
    },
    {
      "cell_type": "code",
      "metadata": {
        "colab": {
          "base_uri": "https://localhost:8080/"
        },
        "id": "W8eATSZdqfkX",
        "outputId": "a26f399d-dcf0-48d0-fa78-c4ede781d50e"
      },
      "source": [
        "data.shape"
      ],
      "execution_count": null,
      "outputs": [
        {
          "output_type": "execute_result",
          "data": {
            "text/plain": [
              "(5,)"
            ]
          },
          "metadata": {},
          "execution_count": 15
        }
      ]
    },
    {
      "cell_type": "code",
      "metadata": {
        "colab": {
          "base_uri": "https://localhost:8080/"
        },
        "id": "m0mGqKccm-V5",
        "outputId": "fe64eab4-4842-4b3a-cabd-4fcfbc532269"
      },
      "source": [
        "print(type(data))\n",
        "print(type(data0))"
      ],
      "execution_count": null,
      "outputs": [
        {
          "output_type": "stream",
          "name": "stdout",
          "text": [
            "<class 'numpy.ndarray'>\n",
            "<class 'list'>\n"
          ]
        }
      ]
    },
    {
      "cell_type": "code",
      "metadata": {
        "colab": {
          "base_uri": "https://localhost:8080/"
        },
        "id": "_eJAjUfGoXlH",
        "outputId": "1fd7a2df-6789-495a-b7fb-0c5cb2953429"
      },
      "source": [
        "zscore = stats.zscore(data)\n",
        "zscore.round(2)"
      ],
      "execution_count": null,
      "outputs": [
        {
          "output_type": "execute_result",
          "data": {
            "text/plain": [
              "array([-1.06, -0.71, -0.35,  0.35,  1.77])"
            ]
          },
          "metadata": {},
          "execution_count": 11
        }
      ]
    },
    {
      "cell_type": "markdown",
      "metadata": {
        "id": "0HO7yxTjo8SK"
      },
      "source": [
        "### MIN-MAX"
      ]
    },
    {
      "cell_type": "code",
      "metadata": {
        "colab": {
          "base_uri": "https://localhost:8080/"
        },
        "id": "d42MP8YZo_U0",
        "outputId": "bf50017b-49fe-4205-ea9e-b32f1f8aa00e"
      },
      "source": [
        "from sklearn.preprocessing import MinMaxScaler\n",
        "scaler = MinMaxScaler()\n",
        "data2 = np.array([[200],[300],[400],[600],[1000]])\n",
        "minmax = scaler.fit_transform(data2)\n",
        "minmax"
      ],
      "execution_count": null,
      "outputs": [
        {
          "output_type": "execute_result",
          "data": {
            "text/plain": [
              "array([[0.   ],\n",
              "       [0.125],\n",
              "       [0.25 ],\n",
              "       [0.5  ],\n",
              "       [1.   ]])"
            ]
          },
          "metadata": {},
          "execution_count": 18
        }
      ]
    },
    {
      "cell_type": "code",
      "metadata": {
        "colab": {
          "base_uri": "https://localhost:8080/"
        },
        "id": "kI9L_S94peUs",
        "outputId": "45db73e9-7b1f-44d1-f8de-4f747844b07f"
      },
      "source": [
        "print(data2)\n",
        "print(data2.shape)"
      ],
      "execution_count": null,
      "outputs": [
        {
          "output_type": "stream",
          "name": "stdout",
          "text": [
            "[[ 200]\n",
            " [ 300]\n",
            " [ 400]\n",
            " [ 600]\n",
            " [1000]]\n",
            "(5, 1)\n"
          ]
        }
      ]
    },
    {
      "cell_type": "code",
      "metadata": {
        "id": "psWksdusppWa"
      },
      "source": [
        ""
      ],
      "execution_count": null,
      "outputs": []
    }
  ]
}